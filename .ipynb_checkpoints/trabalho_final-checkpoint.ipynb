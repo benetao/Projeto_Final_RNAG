{
 "cells": [
  {
   "cell_type": "markdown",
   "metadata": {},
   "source": [
    "Trabalho final de Redes\n",
    "=============================\n",
    "\n"
   ]
  },
  {
   "cell_type": "markdown",
   "metadata": {},
   "source": [
    "## Introdução\n",
    "\n"
   ]
  },
  {
   "cell_type": "markdown",
   "metadata": {},
   "source": [
    "Muitos problemas de otimização com relevância científica têm uma ou mais `restrições` que devem ser levadas em consideração na hora de resolver o problema.\n",
    "\n",
    "Lembra do `problema da mochila` que vimos em Lógica Computacional? Era um problema de otimização onde queríamos maximizar o valor dos itens colocados na mochila enquanto observávamos a restrição do peso total dos itens (do contrário, a mochila rasgava).\n",
    "\n",
    "Uma forma de considerar essas restrições nos problemas é aplicando uma `penalidade` na função objetivo.\n",
    "\n",
    "Vamos pensar como seria essa penalidade no problema da mochila: a função objetivo é maximizar o valor dos itens na mochila, então é um problema de maximização. A função objetivo pode ser a soma dos itens da mochila. Se fosse só isso, teríamos\n",
    "\n",
    "$$\n",
    "f = \\sum_{i, i \\in \\mathrm{mochila}}\\mathrm{valor}(i)\n",
    "$$\n",
    "\n",
    "No entanto, apenas essa função não resolve o problema! Precisamos levar em consideração o limite de peso da mochila! Para isso, penalizamos a função objetivo levando em consideração essa restrição:\n",
    "\n",
    "$f=\\begin{cases}\n",
    "0,01 & \\textrm{se peso > limite da mochila}\\\\\n",
    "\\sum_{i,i\\in\\mathrm{mochila}}(\\mathrm{valor}(i)) & \\textrm{se peso} \\leq \\textrm{limite da mochila}\n",
    "\\end{cases}$\n",
    "\n",
    "Agora finalmente podemos seguir em frente e resolver o problema.\n",
    "\n"
   ]
  },
  {
   "cell_type": "markdown",
   "metadata": {},
   "source": [
    "## Reflexões\n",
    "\n"
   ]
  },
  {
   "cell_type": "markdown",
   "metadata": {},
   "source": [
    "Se usarmos a equação de $f$ acima, qual será o valor de $f$ caso não exista uma solução para um certo problema da mochila?\n",
    "\n",
    "Na equação de $f$ acima nós usamos o valor zero para indicar que uma restrição do problema não foi satisfeita. Você consegue pensar em outra estratégia para penalizar soluções inválidas?\n",
    "\n"
   ]
  },
  {
   "cell_type": "markdown",
   "metadata": {},
   "source": [
    "## Objetivo\n",
    "\n"
   ]
  },
  {
   "cell_type": "markdown",
   "metadata": {},
   "source": [
    "Encontrar uma solução para o problema da mochila usando algoritmos genéticos. Considere que existem 10 itens diferentes (com pesos e valores diferentes) disponíveis para serem escolhidos.\n",
    "\n"
   ]
  },
  {
   "cell_type": "markdown",
   "metadata": {},
   "source": [
    "## Descrição do problema\n",
    "\n"
   ]
  },
  {
   "cell_type": "markdown",
   "metadata": {},
   "source": [
    "No problema da mochila você tem um número $n$ de itens disponíveis, cada um com um peso e um valor associado. Sua mochila tem a capacidade de carregar um número $p$ de quilogramas, sendo que mais que isso faz com que sua mochila rasgue e todos os itens dentro dela caiam no chão e se quebrem de maneira catastrófica (indesejado). Sua tarefa é encontrar um conjunto de itens (considerando os $n$ disponíveis) que maximize o valor contido dentro da mochila, porém que tenham um peso dentro da capacidade da mesma.\n",
    "\n"
   ]
  },
  {
   "cell_type": "markdown",
   "metadata": {},
   "source": [
    "## Importações\n",
    "\n"
   ]
  },
  {
   "cell_type": "code",
   "execution_count": 1,
   "metadata": {},
   "outputs": [],
   "source": [
    "import random\n",
    "\n",
    "from funcoes import computa_maternidade \n",
    "from funcoes import funcao_objetivo_pop_maternidade\n",
    "from funcoes import populacao_cb as cria_populacao_inicial\n",
    "from funcoes import selecao_roleta_max as funcao_selecao\n",
    "from funcoes import cruzamento_ponto_simples as funcao_cruzamento\n",
    "from funcoes import mutacao_cb as funcao_mutacao\n",
    "from funcoes import funcao_objetivo_pop_maternidade\n",
    "from funcoes import funcao_objetivo_maternidade"
   ]
  },
  {
   "cell_type": "markdown",
   "metadata": {},
   "source": [
    "## Códigos e discussão\n",
    "\n"
   ]
  },
  {
   "cell_type": "code",
   "execution_count": 2,
   "metadata": {
    "tags": []
   },
   "outputs": [
    {
     "name": "stdout",
     "output_type": "stream",
     "text": [
      "5\n"
     ]
    }
   ],
   "source": [
    "### CONSTANTES\n",
    "\n",
    "# relacionadas à busca\n",
    "TAMANHO_POP = 20\n",
    "NUM_GERACOES = 100\n",
    "CHANCE_CRUZAMENTO = 0.5\n",
    "CHANCE_MUTACAO = 0.05\n",
    "\n",
    "# relacionadas ao problema a ser resolvido\n",
    "LIMITE_DE_PESO = 5\n",
    "\n",
    "MULHERES = {\n",
    "    'mulher1': {\n",
    "        'hemorragia': 1,\n",
    "        'idade gestacional': 10,\n",
    "        'dor': 5,\n",
    "        'meows': 2,\n",
    "        'sinais de choque': 1,\n",
    "        'leito': 1\n",
    "    },\n",
    "    'mulher2': {\n",
    "        'hemorragia': 3,\n",
    "        'idade gestacional': 20,\n",
    "        'dor': 8,\n",
    "        'meows': 4,\n",
    "        'sinais de choque': 3,\n",
    "        'leito': 1\n",
    "    },\n",
    "    'mulher3': {\n",
    "        'hemorragia': 2,\n",
    "        'idade gestacional': 15,\n",
    "        'dor': 3,\n",
    "        'meows': 3,\n",
    "        'sinais de choque': 2,\n",
    "        'leito': 1\n",
    "    },\n",
    "    'mulher4': {\n",
    "        'hemorragia': 4,\n",
    "        'idade gestacional': 5,\n",
    "        'dor': 1,\n",
    "        'meows': 1,\n",
    "        'sinais de choque': 1,\n",
    "        'leito': 1\n",
    "    },\n",
    "    'mulher5': {\n",
    "        'hemorragia': 1,\n",
    "        'idade gestacional': 30,\n",
    "        'dor': 9,\n",
    "        'meows': 4,\n",
    "        'sinais de choque': 2,\n",
    "        'leito': 1\n",
    "    },\n",
    "    'mulher6': {\n",
    "        'hemorragia': 4,\n",
    "        'idade gestacional': 35,\n",
    "        'dor': 2,\n",
    "        'meows': 3,\n",
    "        'sinais de choque': 3,\n",
    "        'leito': 1\n",
    "    },\n",
    "    'mulher7': {\n",
    "        'hemorragia': 3,\n",
    "        'idade gestacional': 25,\n",
    "        'dor': 6,\n",
    "        'meows': 1,\n",
    "        'sinais de choque': 1,\n",
    "        'leito': 1\n",
    "    },\n",
    "    # Adicione as demais mulheres aqui...\n",
    "    'mulher50': {\n",
    "        'hemorragia': 3,\n",
    "        'idade gestacional': 12,\n",
    "        'dor': 7,\n",
    "        'meows': 3,\n",
    "        'sinais de choque': 3,\n",
    "        'leito': 1\n",
    "    },\n",
    "    'mulher51': {\n",
    "        'hemorragia': 2,\n",
    "        'idade gestacional': 18,\n",
    "        'dor': 4,\n",
    "        'meows': 2,\n",
    "        'sinais de choque': 2,\n",
    "        'leito': 1\n",
    "    },\n",
    "    'mulher52': {\n",
    "        'hemorragia': 1,\n",
    "        'idade gestacional': 7,\n",
    "        'dor': 3,\n",
    "        'meows': 4,\n",
    "        'sinais de choque': 1,\n",
    "        'leito': 1\n",
    "    },\n",
    "    'mulher53': {\n",
    "        'hemorragia': 4,\n",
    "        'idade gestacional': 32,\n",
    "        'dor': 9,\n",
    "        'meows': 1,\n",
    "        'sinais de choque': 2,\n",
    "        'leito': 1\n",
    "    },\n",
    "    'mulher54': {\n",
    "        'hemorragia': 3,\n",
    "        'idade gestacional': 14,\n",
    "        'dor': 8,\n",
    "        'meows': 3,\n",
    "        'sinais de choque': 3,\n",
    "        'leito': 1\n",
    "    },\n",
    "    # Adicione mais exemplos aqui...\n",
    "}\n",
    "\n",
    "NUM_MULHERES = len(MULHERES)\n",
    "ORDEM_DOS_NOMES = list(sorted(MULHERES.keys()))\n"
   ]
  },
  {
   "cell_type": "code",
   "execution_count": 3,
   "metadata": {},
   "outputs": [],
   "source": [
    "# Funções locais\n",
    "\n",
    "def funcao_objetivo_pop(populacao):\n",
    "    return funcao_objetivo_pop_maternidade(\n",
    "        populacao, MULHERES, LIMITE_DE_PESO, ORDEM_DOS_NOMES\n",
    "    )"
   ]
  },
  {
   "cell_type": "code",
   "execution_count": 6,
   "metadata": {},
   "outputs": [
    {
     "name": "stdout",
     "output_type": "stream",
     "text": [
      "Maior valor: 1520 | Peso: 5\n",
      "Maior valor: 1749 | Peso: 5\n",
      "Maior valor: 1802 | Peso: 5\n",
      "Maior valor: 1822 | Peso: 5\n",
      "\n",
      "Você deve priorizar as seguintes pessoas grávidas:\n",
      "+ mulher2\n",
      "+ mulher3\n",
      "+ mulher5\n",
      "+ mulher50\n",
      "+ mulher54\n",
      "\n",
      "Com isso, de acordo a disponibilidade dos 5 leitos e com os parâmetros avaliados as pessoas gestantes que serão atendidas com maior prioridade serão:1822. \n"
     ]
    }
   ],
   "source": [
    "# Busca por algoritmo genético\n",
    "\n",
    "populacao = cria_populacao_inicial(TAMANHO_POP, NUM_MULHERES)\n",
    "\n",
    "# variaveis para o hall da fama\n",
    "melhor_fitness_ja_visto = -float(\"inf\")\n",
    "melhor_individuo_ja_visto = [0] * NUM_MULHERES\n",
    "\n",
    "for n in range(NUM_GERACOES):\n",
    "\n",
    "    # Seleção\n",
    "    fitness = funcao_objetivo_pop(populacao)\n",
    "    populacao = funcao_selecao(populacao, fitness)\n",
    "\n",
    "    # Cruzamento\n",
    "    pais = populacao[0::2]\n",
    "    maes = populacao[1::2]\n",
    "\n",
    "    contador = 0\n",
    "\n",
    "    for pai, mae in zip(pais, maes):\n",
    "        if random.random() <= CHANCE_CRUZAMENTO:\n",
    "            filho1, filho2 = funcao_cruzamento(pai, mae)\n",
    "            populacao[contador] = filho1\n",
    "            populacao[contador + 1] = filho2\n",
    "\n",
    "        contador = contador + 2\n",
    "\n",
    "    # Mutação\n",
    "    for n in range(len(populacao)):\n",
    "        if random.random() <= CHANCE_MUTACAO:\n",
    "            individuo = populacao[n]\n",
    "            populacao[n] = funcao_mutacao(individuo)\n",
    "\n",
    "    # melhor individuo já visto até agora (hall da fama)\n",
    "    fitness = funcao_objetivo_pop(populacao)\n",
    "    maior_fitness = max(fitness)\n",
    "    posicao = fitness.index(maior_fitness)\n",
    "    individuo = populacao[posicao].copy()\n",
    "    valor, peso = computa_maternidade(individuo, MULHERES, ORDEM_DOS_NOMES)\n",
    "    \n",
    "    if maior_fitness > melhor_fitness_ja_visto and peso <= LIMITE_DE_PESO: # nao queremos que ele nos de individuos que nao resolvam o problema\n",
    "        melhor_fitness_ja_visto = maior_fitness\n",
    "        melhor_individuo_ja_visto = individuo\n",
    "        print(f\"Maior valor: {valor} | Peso: {peso}\")\n",
    "\n",
    "\n",
    "# reportando o melhor individuo encontrado\n",
    "print()\n",
    "print(\"Você deve priorizar as seguintes pessoas grávidas:\")\n",
    "for pega_ou_nao, item in zip(melhor_individuo_ja_visto, ORDEM_DOS_NOMES):\n",
    "    if pega_ou_nao == 1:\n",
    "        print(\"+\", item)\n",
    "print()\n",
    "valor_total, peso_total = computa_maternidade(\n",
    "    melhor_individuo_ja_visto, MULHERES, ORDEM_DOS_NOMES\n",
    ")\n",
    "print(\n",
    "    f\"Com isso, de acordo a disponibilidade dos {peso_total} leitos e com os parâmetros avaliados\" \n",
    "    f\" as pessoas gestantes que serão atendidas com maior prioridade serão:{valor_total}. \"\n",
    ")"
   ]
  },
  {
   "cell_type": "code",
   "execution_count": null,
   "metadata": {},
   "outputs": [],
   "source": [
    "# Busca testando todas as permutações\n",
    "\n",
    "melhor_fitness_ever = float(\"inf\")\n",
    "\n",
    "# testando todas as permutações possíveis\n",
    "for caminho in permutations(list(CIDADES.keys())):\n",
    "    distancia = funcao_objetivo_individuo(caminho)\n",
    "    if distancia < melhor_fitness_ever:\n",
    "        melhor_fitness_ever = distancia\n",
    "        melhor_resposta_ever = caminho"
   ]
  },
  {
   "cell_type": "markdown",
   "metadata": {},
   "source": [
    "#### discusão\n",
    "\n",
    "Na hora de fazer os individuos, eles representam a informação do que tem no dicionário(mochila), para representar, usmaos as caixa binária, sendo que o 1 representa estar na mochila e o 0 não. Assim, usamos uma técninca simples, para resolver algo mais complexo e com maior relevância. \n",
    "\n",
    "Na hora da função objetivo, tivemos que pensar em uma punição para os itens que passassem o valor máximo da mochila e, como é um problema de maximização, esse valores ganham valores pequenos, assim esses objetos tem menor chance de entrar na nossa mochila.\n",
    "\n",
    "\n",
    "Gostariamos de gerar a menor quantidade de individuos invalidos possíveis\n",
    "\n",
    "\n",
    "\n"
   ]
  },
  {
   "cell_type": "markdown",
   "metadata": {},
   "source": [
    "## Conclusão\n",
    "\n"
   ]
  },
  {
   "cell_type": "markdown",
   "metadata": {},
   "source": [
    "## Playground\n",
    "\n"
   ]
  },
  {
   "cell_type": "markdown",
   "metadata": {},
   "source": [
    "hemorragia -\n",
    "idade gestacional -\n",
    "dor - escala numérica\n",
    "irresponsíva  - \n",
    "sinais de choque - \n",
    "síndrome hipertensiva - "
   ]
  },
  {
   "cell_type": "code",
   "execution_count": null,
   "metadata": {},
   "outputs": [],
   "source": []
  }
 ],
 "metadata": {
  "kernelspec": {
   "display_name": "ilumpy",
   "language": "python",
   "name": "ilumpy"
  },
  "language_info": {
   "codemirror_mode": {
    "name": "ipython",
    "version": 3
   },
   "file_extension": ".py",
   "mimetype": "text/x-python",
   "name": "python",
   "nbconvert_exporter": "python",
   "pygments_lexer": "ipython3",
   "version": "3.9.7"
  },
  "org": null
 },
 "nbformat": 4,
 "nbformat_minor": 4
}
