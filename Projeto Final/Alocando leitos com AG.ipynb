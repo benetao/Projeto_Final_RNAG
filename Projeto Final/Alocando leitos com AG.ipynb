{
 "cells": [
  {
   "cell_type": "markdown",
   "id": "40527058-b574-40cc-a6f7-ec990989eb3e",
   "metadata": {},
   "source": [
    "<center><img src=\"logo1.png\" style=\"width:430px;height:100px\"/></center>"
   ]
  },
  {
   "cell_type": "markdown",
   "id": "50c12b07-352c-4156-aa14-0de8e310f260",
   "metadata": {},
   "source": [
    "# <center><font color=&ldquo;green&rdquo;> ALGORITMOS GENÉTICOS E ALOCAÇÃO DE LEITOS </center>"
   ]
  },
  {
   "cell_type": "markdown",
   "id": "62685c4c-febc-4885-8710-a615ae7554d7",
   "metadata": {},
   "source": [
    "### <font color=&ldquo;red&rdquo;>INTRODUÇÃO</font>"
   ]
  },
  {
   "cell_type": "markdown",
   "id": "4c3b4a74-898c-4dd1-a6f6-cc8fef41c1b5",
   "metadata": {},
   "source": [
    "> <div style=' text-align: justify; text-justify: inter-word;'> A disciplina de Algoritmos Genéticos e Redes Neurais é ministrada pelo Professor Doutor Daniel Cassar no terceiro período do bacharelado em Ciência e Tecnologia da Ilum - Escola de Ciência, faculdade do Centro Nacional de Pesquisa em Energia e Materiais. Nela, fomos introduzidos a conceitos e aplicações de Algoritmos Genéticos e Redes Neurais.\n",
    "    \n",
    "> <div style=' text-align: justify; text-justify: inter-word;'>  Como entrega final da disciplina, foi solicitado que os alunos elaborassem um trabalho na área de Ciências da Vida utilizando uma das duas ou ambas as ferramentas para solucionar um problema. Não havia muitas restrições, o que precisávamos era: 1. resolver um problema; 2. que o código desse certo.\n",
    "    \n",
    "> <div style=' text-align: justify; text-justify: inter-word;'> Dito isso, o grupo, depois de algumas discussões optou por: fazer uso de algoritmos genéticos para auxiliar profissionais de saúde na tomada de decisões quanto a alocação de leitos em urgência e emergências obstétricas em situações de lotamento. "
   ]
  },
  {
   "cell_type": "markdown",
   "id": "4824825d-b836-4aef-a37c-866baebf3952",
   "metadata": {},
   "source": [
    "<br>"
   ]
  },
  {
   "cell_type": "markdown",
   "id": "f9d1a478-3267-42f0-b263-09aae463708b",
   "metadata": {},
   "source": [
    "### <font color=&ldquo;red&rdquo;> DISCUSSÃO DO PROBLEMA </font>\n",
    "    \n",
    "<div style=' text-align: justify; text-justify: inter-word;'> \n",
    "    Inicialmente, a ideia era trabalhar com um contexto menos específico: tinhamos em mente apenas a questão dos leitos, mas sem espaço definido. Contudo, parecia que isso alongaria desnecessariamente o nosso problema, já que a variabilidade entre as condições dos pacientes seria muito grande, o que dificultaria o processo de encontrar características compartilhadas por todos. Nesse sentidos, pensamos em populações com as quais gostaríamos de trabalhar para pensar em aspectos em comum que precisariam ser avaliados. Por conta disso, escolhemos trabalhar com a população de gestantes."
   ]
  },
  {
   "cell_type": "markdown",
   "id": "3309e244-23a5-4274-a593-910e382e56c6",
   "metadata": {},
   "source": [
    "<div style=' text-align: justify; text-justify: inter-word;'> \n",
    "    Para entender se a nossa proposição de problema era mesmo uma questão real no contexto brasileiro, fomos atrás de informações. De acordo com o que encontramos, o tempo de espera é um dos grandes problemas enfrentados pelos usuários dos serviçõs públicos de saúde [1]. \n",
    "    <br>No que se refere a gestantes especificamente, o uso de serviços de urgência e emergência obstétricos são bastante comuns, inclusive por gestantes cujos quadros não se caracterizem como graves [2]. Vimos também que em hospitais públicos o tempo de de espera era 59% maior do que o esperado. \"Isso significa que, em média, para cada quatro mulheres que procuram um leito hospitalar, uma delas espera mais do que o esperado\" [3]. Por último, em uma pesquisa informal mas não menos importante com as alunas do curso de Obstetrícia da Universidade de São Paulo, elas relataram que o esse projeto se mostrava muito interessante e muito relevante também, já que a insuficiência de leitos e a necessidade de atender pessoas grávidas em condições não ideais se faz presente no dia a dia acadêmico e profissional delas."
   ]
  },
  {
   "cell_type": "markdown",
   "id": "75a3671c-7db4-43d9-a61c-549b831d765f",
   "metadata": {},
   "source": [
    "<br>"
   ]
  },
  {
   "cell_type": "markdown",
   "id": "082d6a6b-74a7-4b24-ab96-b14fce0192e5",
   "metadata": {},
   "source": [
    "### <font color=&ldquo;red&rdquo;> O PROBLEMA DA MOCHILA</font>\n",
    "    \n",
    "<div style=' text-align: justify; text-justify: inter-word;'> \n",
    "    O algoritmo da mochila consiste em um problema de otimização combinatória que envolve determinar quais itens incluir em uma coleção pré-determina devem ser escolhidas para que o peso total dessa mochila seja o mais próximo possível de um valor determinado pelo programador. Em outras palavras, ele se trata de um problema que envolve restrições. Aqui, no casso desse trabalho, a nossa limitação será o valor de leitos: estamos definindo que somente 5 leitos estão disponíveis. Portanto, somente 5 gestantes podem ser atendidas. Além disso, também definiremos que desejados que a nossa mochila tenha o valor mais alto possível (que aqui significará maior risco)."
   ]
  },
  {
   "cell_type": "markdown",
   "id": "bf692173-a155-4423-9cfd-84480ca73853",
   "metadata": {},
   "source": [
    "<br>"
   ]
  },
  {
   "cell_type": "markdown",
   "id": "d162afcb-c3af-4a40-9f8f-1eb29eface07",
   "metadata": {},
   "source": [
    "> <hr>"
   ]
  },
  {
   "cell_type": "markdown",
   "id": "e9cc454d-2037-474d-9666-5d5f5b3aecdf",
   "metadata": {},
   "source": [
    "### <font color=&ldquo;red&rdquo;> CRITÉRIOS PARA AVALIAÇÃO"
   ]
  },
  {
   "cell_type": "markdown",
   "id": "83aaf7cf-b853-4f1b-ab2b-8e3c7ee282a5",
   "metadata": {},
   "source": [
    "> A soma de todos esses critérios (exceto leitos) corresponderá ao peso da mochila. Lembre-se que estamos em busca do maior valor possível, já que entendemos que ele corresponde ao maior risco."
   ]
  },
  {
   "cell_type": "markdown",
   "id": "512ccf80-4367-4d42-9f7e-f864bbfb09b3",
   "metadata": {},
   "source": [
    "<br>"
   ]
  },
  {
   "cell_type": "markdown",
   "id": "9b2dceea-6b4a-4cc4-9cfc-3ad9fccc8447",
   "metadata": {},
   "source": [
    "**ESCALA MEOWS - MODIFIED EARLY OBSTETRIC WARNING SCORE**"
   ]
  },
  {
   "cell_type": "markdown",
   "id": "63ee1f97-4a81-41aa-8bad-b09477b1a139",
   "metadata": {},
   "source": [
    "> <div style=' text-align: justify; text-justify: inter-word;'> A escala 'Modified Obstetric Warning Score' ou MEOWS é extensivamente utilizada nos seriços obstétricos de saúde. Ela leva em consideração inúmeros critérios básicos que são avaliados em exames físicos. Essa escala conta com duas extremidades: uma com valores altos demais de pressão arterial sistólica e diastólica, frequência respiratória e cardíaca, saturação de oxigênio no sangue, temperatura e nível de consciência e uma outra com valores muito baixos. Cada intervalo afastado de zero, seja para a direita ou para a esquerda recebe a mesma classificação, pois ele são igualmente bons ou igualmente ruins."
   ]
  },
  {
   "cell_type": "markdown",
   "id": "3f6a05ec-ca6b-4352-af28-1b0d73e2b376",
   "metadata": {},
   "source": [
    "<center><img src=\"escalamews.png\" style=\"width:440px;height:250px\"/>\n",
    "    \n",
    "    Escala Meows. Fonte: [4]."
   ]
  },
  {
   "cell_type": "markdown",
   "id": "31058a63-b74d-4a15-8e11-16291562ac01",
   "metadata": {},
   "source": [
    "<center><img src=\"meows 2.png\" style=\"width:440px;height:250px\"/>\n",
    "    \n",
    "    Escala Meows. Fonte: [4]."
   ]
  },
  {
   "cell_type": "markdown",
   "id": "a2daba78-8262-4fc7-8e24-0838749b2c05",
   "metadata": {},
   "source": [
    "> <div style=' text-align: justify; text-justify: inter-word;'> COMO ISSO APARECE NO CÓDIGO?\n",
    "    \n",
    "    Para manter a nossa padronização entre 0 e 100, considerados que quatro valores são possível: 1 (que corresponde ao verde na imagem acima), 2 (amarelo), 3 (laranja) e 4 (vermelho). Multiplicaremos esses valores por 25, então, no final, trabalharemos com 25, 50, 75 e 100. Sendo que, quanto maior o risco, maior o valor obtido."
   ]
  },
  {
   "cell_type": "markdown",
   "id": "7586bdf5-652c-4ad5-9f1b-b37d5874395d",
   "metadata": {},
   "source": [
    "<br>"
   ]
  },
  {
   "cell_type": "markdown",
   "id": "6fcf6b07-b88e-4105-b5c4-5c04bc9fe5a8",
   "metadata": {},
   "source": [
    "**HEMORRAGIA**"
   ]
  },
  {
   "cell_type": "markdown",
   "id": "975167d3-1c0b-4a5e-9cdc-33181f268c1e",
   "metadata": {},
   "source": [
    "> <div style=' text-align: justify; text-justify: inter-word;'> Hemorragia consiste em perda de sangue. Um quadro de hemorragia pode ser classificado em 4 classes, sendo a última a mais grave. A perda de sangue excessiva pode oferecer não somente riscos à gestante, mas também ao bebê. Pode indicar também a ocorrência de aborto."
   ]
  },
  {
   "cell_type": "markdown",
   "id": "e944150c-dc3f-471f-984d-78e2b06bd768",
   "metadata": {},
   "source": [
    "<center><img src=\"hemorragia.png\" style=\"width:450px;height:300px\"/>\n",
    "    \n",
    "    Classificação dos níveis de hemorragia. Fonte: [5]."
   ]
  },
  {
   "cell_type": "markdown",
   "id": "10d9070e-e319-4bcb-90aa-fcc73f10038a",
   "metadata": {},
   "source": [
    "> <div style=' text-align: justify; text-justify: inter-word;'> COMO ISSO APARECE NO CÓDIGO?\n",
    "    \n",
    "    Para manter a nossa padronização entre 0 e 100, considerados que quatro valores são possível: de 1 a 4, sendo que cada um deles corresponde, respectivamente, a uma das classes acima.. Multiplicaremos esses valores por 25, então, no final, trabalharemos com 25, 50, 75 e 100. Sendo que, quanto maior o risco, maior o valor obtido."
   ]
  },
  {
   "cell_type": "markdown",
   "id": "bff269b8-257e-4a49-84cc-48ac55320d9c",
   "metadata": {},
   "source": [
    "<br>"
   ]
  },
  {
   "cell_type": "markdown",
   "id": "a826636a-d502-4b79-9ff5-ae7664228c5f",
   "metadata": {},
   "source": [
    "**SINAIS DE CHOQUE**"
   ]
  },
  {
   "cell_type": "markdown",
   "id": "727583fb-f886-4020-b817-bb77393072b4",
   "metadata": {},
   "source": [
    "> <div style=' text-align: justify; text-justify: inter-word;'> A imagem abaixo explica bem no que consiste o choque, mas pode-se dizer desde já que ele envolve batimentos cardíacos e respiração. Em um caso grave de choque, a pessoa não tem pulso e não respira, além de que está inconsciente, ou seja, a gestante corre risco de vida e, consequentemente, o bebê também."
   ]
  },
  {
   "cell_type": "markdown",
   "id": "69f44e0c-bcb8-4bcb-ac63-dd498e005295",
   "metadata": {},
   "source": [
    "<center><img src=\"choque.jpeg\" style=\"width:400px;height:180px\"/>\n",
    "    \n",
    "    Escala de Sinais de Choque. Fonte: Prof. Angela Ochiai, curso de Obstetrícia - USP."
   ]
  },
  {
   "cell_type": "markdown",
   "id": "0e56423f-1e07-4dd0-afe4-dc36ac441b4c",
   "metadata": {},
   "source": [
    "> <div style=' text-align: justify; text-justify: inter-word;'> COMO ISSO APARECE NO CÓDIGO?\n",
    "    \n",
    "    Para manter a nossa padronização entre 0 e 100, multiplicaremos os valores de sinais de choque por 33. Dessa forma, a soma contará com um dos possíveis valores seguintes: 33, 66 e 99. Ademais, é importante saber também que invertemos a ordem de gravidade, para o nós, o mais grave (1) corresponde a 99, enquanto o menos grave (33), corresponde a 33."
   ]
  },
  {
   "cell_type": "markdown",
   "id": "73c046ea-2e44-4a42-9a72-d0c6934c48a3",
   "metadata": {},
   "source": [
    "<br>"
   ]
  },
  {
   "cell_type": "markdown",
   "id": "0e4b0b14-d027-4f9c-855a-e1292feacd9c",
   "metadata": {},
   "source": [
    "**IDADE GESTACIONAL**\n",
    "\n",
    "> Gestação a termo inicial (early term) 37 semanas até 38 semanas e 6 dias;\n",
    "\n",
    "> Gestação a termo (full term) 39 semanas até 40 semanas e 6 dias;\n",
    "\n",
    "> Gestação a termo tardio (late term) 41 semanas até 41 semanas e 6 dias;\n",
    "\n",
    "> Gestação pós-termo (post term) 42 semanas ou mais.\n",
    "\n",
    "<div style=' text-align: justify; text-justify: inter-word;'> Apesar de todas essas classificações, consideramos como idade gestacional máxima 42 semanas. Consideramos também que, quanto mais avançada a gestação, maior é o risco para a gestante e para o bebê. Portanto, os valores são maiores conforme o avanço da gestação.   "
   ]
  },
  {
   "cell_type": "markdown",
   "id": "5602fa67-9949-486d-a804-6e59d6d4872d",
   "metadata": {},
   "source": [
    "> <div style=' text-align: justify; text-justify: inter-word;'> COMO ISSO APARECE NO CÓDIGO?\n",
    "    \n",
    "    Para manter a nossa padronização entre 0 e 100, multiplicaremos os valores de idade gestacional por 2. Ou seja, a somatória será feita com valores de 2 a 84."
   ]
  },
  {
   "cell_type": "markdown",
   "id": "96aa9f01-5dff-4209-880c-d0cf3c8cdda8",
   "metadata": {},
   "source": [
    "<br>"
   ]
  },
  {
   "cell_type": "markdown",
   "id": "8eed562f-2ae3-4c52-9003-9253dc0b2cd7",
   "metadata": {},
   "source": [
    "**NÍVEL DE DOR**\n",
    "\n",
    "> <div style=' text-align: justify; text-justify: inter-word;'> A análise do nível de dor foi proposta artificialmente pelo grupo. Propomos que o paciente possa escolher um valor de 1 a 10. Os pacientes que apresentarem mais altos, são considerados como em maior risco."
   ]
  },
  {
   "cell_type": "markdown",
   "id": "816448e3-2184-43af-934e-656c88a77792",
   "metadata": {},
   "source": [
    "> <div style=' text-align: justify; text-justify: inter-word;'> COMO ISSO APARECE NO CÓDIGO?\n",
    "    \n",
    "    Para manter a nossa padronização entre 0 e 100, multiplicaremos os valores de por 10. Dessa forma, poderemos observamos os seguintes valores: 10, 20, 30, 40, 50, 60, 70, 80, 90 e 100."
   ]
  },
  {
   "cell_type": "markdown",
   "id": "0082c1ff-b5aa-4fa1-9fe0-08d20064480b",
   "metadata": {},
   "source": [
    "> <hr>"
   ]
  },
  {
   "cell_type": "markdown",
   "id": "cfd4680f-f123-4c27-9979-b53283158403",
   "metadata": {},
   "source": [
    "**LEITOS**\n",
    "\n",
    "> <div style=' text-align: justify; text-justify: inter-word;'> Leitos, nossa restrição, terá valor de 1 para todos on indivíduos dentro do dicionário 'MULHERES'. Isso porque ele não influencia no peso, mas sim na limitação, já qie somente 5 deles estão disponíveis."
   ]
  },
  {
   "cell_type": "markdown",
   "id": "2c884e55-7a2e-4c99-bc2c-ab2839bac4ea",
   "metadata": {},
   "source": [
    "<br>"
   ]
  },
  {
   "cell_type": "markdown",
   "id": "b8720d5e-8874-4780-918b-698269f7a980",
   "metadata": {},
   "source": [
    "<hr>"
   ]
  },
  {
   "cell_type": "markdown",
   "id": "6d104dde-160b-4236-9799-3a06136d2cda",
   "metadata": {},
   "source": [
    "<div style=' text-align: center; text-justify: inter-word;'> Tendo toda a parte teórica do trabalho sido apresentada, partiremos agora para as importações das bibliotecas e funções necessárias."
   ]
  },
  {
   "cell_type": "markdown",
   "id": "501a3770-76d1-49b9-a312-6cf6d43cfc58",
   "metadata": {},
   "source": [
    "### <font color=&ldquo;red&rdquo;> IMPORTAÇÕES"
   ]
  },
  {
   "cell_type": "code",
   "execution_count": 1,
   "id": "a3d31545-fd36-441e-b02b-53e2053f478e",
   "metadata": {},
   "outputs": [],
   "source": [
    "# importações para o algoritmo genético\n",
    "import random\n",
    "\n",
    "from funcoes_alocacao import computa_maternidade \n",
    "from funcoes_alocacao import funcao_objetivo_pop_maternidade\n",
    "from funcoes_alocacao import populacao_cb as cria_populacao_inicial\n",
    "from funcoes_alocacao import selecao_roleta_max as funcao_selecao\n",
    "from funcoes_alocacao import cruzamento_ponto_simples as funcao_cruzamento\n",
    "from funcoes_alocacao import mutacao_cb as funcao_mutacao\n",
    "from funcoes_alocacao import funcao_objetivo_pop_maternidade\n",
    "from funcoes_alocacao import funcao_objetivo_maternidade\n",
    "\n",
    "# importações para a interface alterativa\n",
    "import tkinter as tk # biblioteca que permite o desenvolvimento de interfaces gráficas [6]\n",
    "from tkinter import messagebox"
   ]
  },
  {
   "cell_type": "markdown",
   "id": "47cf9d5a-fb36-4ddd-ad7d-7c7aa649c470",
   "metadata": {},
   "source": [
    "### <font color=&ldquo;red&rdquo;> CÓDIGO E DICUSSÃO"
   ]
  },
  {
   "cell_type": "markdown",
   "id": "cf9ee464-1150-4d27-bdf2-1d24b8c763e9",
   "metadata": {},
   "source": [
    "> **CONSTANTES**"
   ]
  },
  {
   "cell_type": "markdown",
   "id": "fa55e55e-2318-414e-92e2-9cb2fa2f1551",
   "metadata": {},
   "source": [
    "**Constantes relacionadas à busca**\n",
    "<br>Podem ser alteradas a qualquer momento sem causar qualquer tipo de prejuízo ao problema aqui trabalhado."
   ]
  },
  {
   "cell_type": "markdown",
   "id": "ea1d2ae4-bb05-4b37-816e-2fb520063fd0",
   "metadata": {},
   "source": [
    "<div style=' text-align: justify; text-justify: inter-word;'> \n",
    "    Definindo as condições iniciais do nosso problema, a constante TAMANHO_POP se relaciona com o tamanho população e definimos que ela será composta por 20 indivíduos. Por sua vez, a constante NUM_GERACOES corresponde a 10000, ou seja, geraremos populações esse número de vezes. As constantes CHANCE_CRUZAMENTO e CHANCE_MUTACAO estão, como o próprio nome diz, relacionados a chances de cruzamentos e mutações acontecerem. O que reflete um pouco da realidade, já que não necessariamente todo indivíduo vai cruzar e nem todo indivíduo gerado por esse cruzamento sofrerá mutações."
   ]
  },
  {
   "cell_type": "code",
   "execution_count": 2,
   "id": "4dae4017-111b-4151-ba58-26d3c0a368c8",
   "metadata": {},
   "outputs": [],
   "source": [
    "# relacionadas à busca\n",
    "TAMANHO_POP = 20\n",
    "NUM_GERACOES = 10000\n",
    "CHANCE_CRUZAMENTO = 0.5\n",
    "CHANCE_MUTACAO = 0.1"
   ]
  },
  {
   "cell_type": "markdown",
   "id": "d274370a-b7d2-4388-a185-fa6383864a10",
   "metadata": {},
   "source": [
    "<br>"
   ]
  },
  {
   "cell_type": "markdown",
   "id": "9f53d762-ebc9-4e4d-9b17-8d819d3b865a",
   "metadata": {},
   "source": [
    "**Constantes relacionadas ao problema a ser resolvido**\n",
    "<br>Não podem ser alteradas a qualquer momento sem causar qualquer tipo de prejuízo ao problema."
   ]
  },
  {
   "cell_type": "markdown",
   "id": "d7145f56-74a4-49a6-8cd4-6a74cd87d2cb",
   "metadata": {},
   "source": [
    "<div style=' text-align: justify; text-justify: inter-word;'> \n",
    "    A constante LIMITE_DE_PESO é fundamental para o nosso problema, para a maneira com a qual o nosso código trabalha. Nós estamos definindo que o máximo de peso que a mochila pode assumir é 5. Dentro do nosso problema, esse limite corresponde ao número de leitos que está disponível para a alocação de gestantes."
   ]
  },
  {
   "cell_type": "code",
   "execution_count": 3,
   "id": "723ecdf1-e2e0-49c4-9d65-8ca1a2581886",
   "metadata": {},
   "outputs": [],
   "source": [
    "# relacionadas ao problema a ser resolvido\n",
    "LIMITE_DE_PESO = 5"
   ]
  },
  {
   "cell_type": "markdown",
   "id": "b203a4d8-78ac-4f06-8fbe-41b831c889f4",
   "metadata": {},
   "source": [
    "<br>"
   ]
  },
  {
   "cell_type": "markdown",
   "id": "ee6abcb7-6b1b-4153-9024-de711c62cd96",
   "metadata": {},
   "source": [
    "> **CRIANDO O DICIONÁRIO**"
   ]
  },
  {
   "cell_type": "markdown",
   "id": "76d1247f-0385-49bb-999e-7fc6eff9344c",
   "metadata": {},
   "source": [
    "<div style=' text-align: justify; text-justify: inter-word;'> \n",
    "    Nesse passo, vamos criar o dicionário que reúne as mulheres/gestantes e suas características associadas a valores. Por meio da manipulação das informações contidas abaixo, conseguiremos resolver o nosso problema."
   ]
  },
  {
   "cell_type": "code",
   "execution_count": 4,
   "id": "7007c029-7dc7-4988-b5ac-c95400900b11",
   "metadata": {
    "tags": []
   },
   "outputs": [],
   "source": [
    "MULHERES = {\n",
    "    'mulher1': {\n",
    "        'hemorragia': 1,\n",
    "        'idade gestacional': 10,\n",
    "        'dor': 5,\n",
    "        'meows': 2,\n",
    "        'sinais de choque': 1,\n",
    "        'leito': 1\n",
    "    },\n",
    "    'mulher2': {\n",
    "        'hemorragia': 3,\n",
    "        'idade gestacional': 20,\n",
    "        'dor': 8,\n",
    "        'meows': 4,\n",
    "        'sinais de choque': 3,\n",
    "        'leito': 1\n",
    "    },\n",
    "    'mulher3': {\n",
    "        'hemorragia': 2,\n",
    "        'idade gestacional': 15,\n",
    "        'dor': 3,\n",
    "        'meows': 3,\n",
    "        'sinais de choque': 2,\n",
    "        'leito': 1\n",
    "    },\n",
    "    'mulher4': {\n",
    "        'hemorragia': 4,\n",
    "        'idade gestacional': 5,\n",
    "        'dor': 1,\n",
    "        'meows': 1,\n",
    "        'sinais de choque': 1,\n",
    "        'leito': 1\n",
    "    },\n",
    "    'mulher5': {\n",
    "        'hemorragia': 1,\n",
    "        'idade gestacional': 30,\n",
    "        'dor': 9,\n",
    "        'meows': 4,\n",
    "        'sinais de choque': 2,\n",
    "        'leito': 1\n",
    "    },\n",
    "    'mulher6': {\n",
    "        'hemorragia': 4,\n",
    "        'idade gestacional': 35,\n",
    "        'dor': 2,\n",
    "        'meows': 3,\n",
    "        'sinais de choque': 3,\n",
    "        'leito': 1\n",
    "    },\n",
    "    'mulher7': {\n",
    "        'hemorragia': 3,\n",
    "        'idade gestacional': 25,\n",
    "        'dor': 6,\n",
    "        'meows': 1,\n",
    "        'sinais de choque': 1,\n",
    "        'leito': 1\n",
    "    },\n",
    "    'mulher8': {\n",
    "        'hemorragia': 2,\n",
    "        'idade gestacional': 18,\n",
    "        'dor': 4,\n",
    "        'meows': 2,\n",
    "        'sinais de choque': 2,\n",
    "        'leito': 1\n",
    "    },\n",
    "    'mulher9': {\n",
    "        'hemorragia': 1,\n",
    "        'idade gestacional': 7,\n",
    "        'dor': 3,\n",
    "        'meows': 4,\n",
    "        'sinais de choque': 1,\n",
    "        'leito': 1\n",
    "    },\n",
    "    'mulher10': {\n",
    "        'hemorragia': 4,\n",
    "        'idade gestacional': 32,\n",
    "        'dor': 9,\n",
    "        'meows': 1,\n",
    "        'sinais de choque': 2,\n",
    "        'leito': 1\n",
    "    },\n",
    "    'mulher11': {\n",
    "        'hemorragia': 3,\n",
    "        'idade gestacional': 14,\n",
    "        'dor': 8,\n",
    "        'meows': 3,\n",
    "        'sinais de choque': 3,\n",
    "        'leito': 1\n",
    "    },\n",
    "    'mulher12': {\n",
    "        'hemorragia': 1,\n",
    "        'idade gestacional': 23,\n",
    "        'dor': 2,\n",
    "        'meows': 2,\n",
    "        'sinais de choque': 1,\n",
    "        'leito': 1\n",
    "    },\n",
    "    'mulher13': {\n",
    "        'hemorragia': 2,\n",
    "        'idade gestacional': 11,\n",
    "        'dor': 5,\n",
    "        'meows': 4,\n",
    "        'sinais de choque': 2,\n",
    "        'leito': 1\n",
    "    },\n",
    "    'mulher14': {\n",
    "        'hemorragia': 4,\n",
    "        'idade gestacional': 37,\n",
    "        'dor': 1,\n",
    "        'meows': 3,\n",
    "        'sinais de choque': 3,\n",
    "        'leito': 1\n",
    "    },\n",
    "    'mulher15': {\n",
    "        'hemorragia': 3,\n",
    "        'idade gestacional': 28,\n",
    "        'dor': 7,\n",
    "        'meows': 1,\n",
    "        'sinais de choque': 1,\n",
    "        'leito': 1\n",
    "    },\n",
    "    'mulher16': {\n",
    "        'hemorragia': 2,\n",
    "        'idade gestacional': 17,\n",
    "        'dor': 4,\n",
    "        'meows': 2,\n",
    "        'sinais de choque': 2,\n",
    "        'leito': 1\n",
    "    },\n",
    "    'mulher17': {\n",
    "        'hemorragia': 1,\n",
    "        'idade gestacional': 6,\n",
    "        'dor': 3,\n",
    "        'meows': 4,\n",
    "        'sinais de choque': 1,\n",
    "        'leito': 1\n",
    "    },\n",
    "    'mulher18': {\n",
    "        'hemorragia': 4,\n",
    "        'idade gestacional': 31,\n",
    "        'dor': 9,\n",
    "        'meows': 1,\n",
    "        'sinais de choque': 2,\n",
    "        'leito': 1\n",
    "    },\n",
    "    'mulher19': {\n",
    "        'hemorragia': 3,\n",
    "        'idade gestacional': 13,\n",
    "        'dor': 8,\n",
    "        'meows': 3,\n",
    "        'sinais de choque': 3,\n",
    "        'leito': 1\n",
    "    },\n",
    "    'mulher20': {\n",
    "        'hemorragia': 4,\n",
    "        'idade gestacional': 40,\n",
    "        'dor': 10,\n",
    "        'meows': 3,\n",
    "        'sinais de choque': 3,\n",
    "        'leito': 1\n",
    "    },\n",
    "   \n",
    "}"
   ]
  },
  {
   "cell_type": "markdown",
   "id": "47a05ef2-fd12-4b8e-869b-50d5784daecc",
   "metadata": {},
   "source": [
    "<div style=' text-align: justify; text-justify: inter-word;'> \n",
    "    As constantes a seguir são definidas a partir do dicionário. A NUM_MULHERES corresponde ao número de mulheres dentro do dicionário e a ORDEM_DOS_NOMES corresponde a uma lista com o nome de todas as mulheres contidas no dicionário."
   ]
  },
  {
   "cell_type": "code",
   "execution_count": 5,
   "id": "604a6948-b3b7-470e-bfc8-5917a51bc1d9",
   "metadata": {},
   "outputs": [],
   "source": [
    "NUM_MULHERES = len(MULHERES) # o número de mulheres corresponde ao número de elementos do dicionário\n",
    "ORDEM_DOS_NOMES = list(sorted(MULHERES.keys())) # a ordem dos nomes corresponde ao nome de todas as mulheres no dicionário\n",
    "                                                    # esses nomes estão organizados sortidamente"
   ]
  },
  {
   "cell_type": "markdown",
   "id": "a54ff110-95b1-4bee-8fde-27ce61486f11",
   "metadata": {},
   "source": [
    "> **FUNÇÕES LOCAIS**"
   ]
  },
  {
   "cell_type": "markdown",
   "id": "095786f7-fea5-4a3d-b658-f26f6cdbfbc6",
   "metadata": {},
   "source": [
    "<div style=' text-align: justify; text-justify: inter-word;'> \n",
    "    Estamos utilizando o arquivo 'funcoes.py' para guardar as nossas funções que podem ser necessárias em outros contexto. Contudo, as funções locais são desenvolvidas somente para o problema do notebook."
   ]
  },
  {
   "cell_type": "code",
   "execution_count": 6,
   "id": "91925050-e365-486f-b73a-9a254c2bf8bb",
   "metadata": {},
   "outputs": [],
   "source": [
    "# Funções locais\n",
    "\n",
    "def funcao_objetivo_pop(populacao):\n",
    "    return funcao_objetivo_pop_maternidade(\n",
    "        populacao, MULHERES, LIMITE_DE_PESO, ORDEM_DOS_NOMES\n",
    "    )"
   ]
  },
  {
   "cell_type": "markdown",
   "id": "b02c27cb-9af0-40b2-a8cd-0589c1aa0637",
   "metadata": {},
   "source": [
    "> **FAZENDO USO DO ALGORITMO GENÉTICO**"
   ]
  },
  {
   "cell_type": "markdown",
   "id": "37b53e28-3d4e-485d-874c-b62b92bcbd19",
   "metadata": {},
   "source": [
    "<div style=' text-align: justify; text-justify: inter-word;'> \n",
    "É importante sempre ter em mente que um algoritmo genético é constituido por passos. Para funcionar, ele precisa de uma população, que é composta por indivíduos, que são selecionados, que podem cruzados e que podem sofrer mutação. A partir disso, a busca é pelo melhor indivíduo segundo as condições no problema. Em outras palavras, aqui queremos um indivíduo de maior fitness."
   ]
  },
  {
   "cell_type": "code",
   "execution_count": 7,
   "id": "e3dfe0a2-d3e1-47f8-bb08-00abfc330ec8",
   "metadata": {},
   "outputs": [
    {
     "name": "stdout",
     "output_type": "stream",
     "text": [
      "Maior valor: 1503 | Peso: 5\n",
      "Maior valor: 1533 | Peso: 5\n",
      "Maior valor: 1593 | Peso: 5\n",
      "Maior valor: 1699 | Peso: 5\n",
      "Maior valor: 1735 | Peso: 5\n",
      "Maior valor: 1766 | Peso: 5\n",
      "Maior valor: 1851 | Peso: 5\n",
      "Maior valor: 1906 | Peso: 5\n",
      "Maior valor: 1908 | Peso: 5\n",
      "Maior valor: 1912 | Peso: 5\n",
      "Maior valor: 1925 | Peso: 5\n",
      "Maior valor: 1927 | Peso: 5\n",
      "\n",
      "Você deve priorizar as seguintes pessoas grávidas:\n",
      "+ mulher11\n",
      "+ mulher14\n",
      "+ mulher2\n",
      "+ mulher20\n",
      "+ mulher6\n",
      "\n",
      "Com isso, de acordo a disponibilidade dos 5 leitos e com os parâmetros avaliados as pessoas gestantes que devem ser atendidas com maior prioridade são as sugeridas acima. \n"
     ]
    }
   ],
   "source": [
    "populacao = cria_populacao_inicial(TAMANHO_POP, NUM_MULHERES) \n",
    "\n",
    "# variaveis para o hall da fama\n",
    "    # reúne os melhores indivíduos\n",
    "    # o hall da fama vai considerar então o valor do fitness (busca pelo maior) e a posição do indivíduo na população\n",
    "melhor_fitness_ja_visto = -float(\"inf\") # qualquer valor é maior do que menos infinito\n",
    "melhor_individuo_ja_visto = [0] * NUM_MULHERES # o melhor individuo estará na posição zero com o número de objetos/genes definidos na constante\n",
    "\n",
    "for n in range(NUM_GERACOES): # para cada geração dentro do total de gerações\n",
    "    # seleção\n",
    "    # cruzamento\n",
    "    # mutação\n",
    "    # busca pelo melhor indivíduo segundo as condições estabelecidas\n",
    "\n",
    "    # Seleção\n",
    "    # selecionando os indivíduos com base nos fitness\n",
    "    fitness = funcao_objetivo_pop(populacao) # calculo do fitness para todos os indivíduos da população\n",
    "    populacao = funcao_selecao(populacao, fitness) # seleciona-se os indivíduos com os maiores fitness\n",
    "\n",
    "    # Cruzamento\n",
    "    pais = populacao[0::2]\n",
    "    maes = populacao[1::2]\n",
    "    # separação da população em dois grandes grupos\n",
    "        # a seleção de cada indivíduo desses grupos é feita de maneira intercalada\n",
    "        # quando um é pai, o seguinte é mãe e assim vice-versa até o final do número de indivíduos da população\n",
    "\n",
    "    contador = 0 # indicando a posição do elemento a ser substituído\n",
    "\n",
    "    for pai, mae in zip(pais, maes): # zip é um comando que junta duas listas\n",
    "                                        # para cada pai e mãe contidos na união das listas de pais e mães...\n",
    "        if random.random() <= CHANCE_CRUZAMENTO: # determinamos que a chance de cruzamento é de 0.5\n",
    "            filho1, filho2 = funcao_cruzamento(pai, mae) # aplica-se a função cruzamento para gerar novos indivíduos\n",
    "            populacao[contador] = filho1 # o primeiro filho substituirá o pai\n",
    "            populacao[contador + 1] = filho2 # o segundo filho substituirá/entrará na posição da mãe\n",
    "\n",
    "        contador = contador + 2 # o contador fora do if ajuda a garantir que a substituição vai acontecer, dentro do if haveria uma condição\n",
    "                                # para não ficar substituindo só no mesmo lugar, adciona-se 2 a cada novo valor de contador\n",
    "                                # concluindo a lista da nova geração\n",
    "\n",
    "    # Mutação\n",
    "    # chance definida como 0.1\n",
    "    for n in range(len(populacao)): # para cada indivíduo na população\n",
    "        if random.random() <= CHANCE_MUTACAO:\n",
    "            individuo = populacao[n]\n",
    "            populacao[n] = funcao_mutacao(individuo)\n",
    "            # a população final vai corresponder aos indivíduos que sofreram mutação substituindo alguns dos antidos\n",
    "\n",
    "    # melhor individuo já visto até agora (hall da fama)\n",
    "    fitness = funcao_objetivo_pop(populacao)\n",
    "    maior_fitness = max(fitness)\n",
    "    posicao = fitness.index(maior_fitness)\n",
    "    individuo = populacao[posicao].copy() # problema é de maximização\n",
    "                                            # se você identifica a posição do maior fitness dentro da população\n",
    "                                                # vocÊ desobre quem é o indivíduo também\n",
    "    valor, peso = computa_maternidade(individuo, MULHERES, ORDEM_DOS_NOMES)\n",
    "    \n",
    "    if maior_fitness > melhor_fitness_ja_visto and peso <= LIMITE_DE_PESO: # nao queremos que ele nos dê individuos que nao resolvam o problema\n",
    "        melhor_fitness_ja_visto = maior_fitness # melhor fintess é o maior pois este é um problema de maximização\n",
    "        melhor_individuo_ja_visto = individuo\n",
    "        print(f\"Maior valor: {valor} | Peso: {peso}\")\n",
    "\n",
    "\n",
    "# reportando o melhor individuo encontrado\n",
    "print()\n",
    "print(\"Você deve priorizar as seguintes pessoas grávidas:\")\n",
    "for pega_ou_nao, item in zip(melhor_individuo_ja_visto, ORDEM_DOS_NOMES):\n",
    "    if pega_ou_nao == 1:\n",
    "        print(\"+\", item)\n",
    "print()\n",
    "valor_total, peso_total = computa_maternidade(\n",
    "    melhor_individuo_ja_visto, MULHERES, ORDEM_DOS_NOMES\n",
    ")\n",
    "print(\n",
    "    f\"Com isso, de acordo a disponibilidade dos {peso_total} leitos e com os parâmetros avaliados\" \n",
    "    f\" as pessoas gestantes que devem ser atendidas com maior prioridade são as sugeridas acima. \"\n",
    ")"
   ]
  },
  {
   "cell_type": "markdown",
   "id": "77c283c3-28c8-41a5-8215-916709fee8ef",
   "metadata": {},
   "source": [
    "<br>"
   ]
  },
  {
   "cell_type": "markdown",
   "id": "aa7e8b7b-7390-4484-8a8b-0b14e16302ac",
   "metadata": {},
   "source": [
    "> <hr>"
   ]
  },
  {
   "cell_type": "markdown",
   "id": "d5c9371a-4804-428f-a7fe-c743f698dd16",
   "metadata": {},
   "source": [
    "### <font color=&ldquo;red&rdquo;> INTERFACE PARA INTERAÇÃO ENTRE PROFISSIONAL DE SAÚDE E ALGORITMO"
   ]
  },
  {
   "cell_type": "markdown",
   "id": "249509cc-7b6a-44c5-b1aa-ce1959faf25e",
   "metadata": {},
   "source": [
    "<div style=' text-align: justify; text-justify: inter-word;'> \n",
    "Considerando um contexto real de aplicação desse programa, consideramos que seria extremamente mais prático para os profissionais da área da Saúde não precisar lidar diretamente com o código. Nesse sentido, criamos uma interface interativa que permite que os profissionais entrem com o dado do paciente e, então, por conta própria, o código fará a adição das novas entradas (novas gestantes e seus dados correspondentes aos critérios)."
   ]
  },
  {
   "cell_type": "code",
   "execution_count": null,
   "id": "1e7df5d4-9e65-4c4e-a63e-3b76ad883b77",
   "metadata": {},
   "outputs": [],
   "source": [
    "class PerguntasSistemaSaude: # criando uma classe\n",
    "    def __init__(self, root):\n",
    "        self.root = root\n",
    "        self.root.title(\"Perguntas\")\n",
    "        self.mulheres = MULHERES  # Dicionário \"mulheres\" já previamente criado\n",
    "        \n",
    "        # Cria os rótulos das perguntas e as caixas de entrada\n",
    "        pergunta1_label = tk.Label(root, text=\"De 1 a 4, qual o nível de hemorragia?\")\n",
    "        pergunta1_label.pack()\n",
    "        self.resposta1_entry = tk.Entry(root)\n",
    "        self.resposta1_entry.pack()\n",
    "        \n",
    "        pergunta2_label = tk.Label(root, text=\"Qual a idade gestacional, em semanas?\")\n",
    "        pergunta2_label.pack()\n",
    "        self.resposta2_entry = tk.Entry(root)\n",
    "        self.resposta2_entry.pack()\n",
    "        \n",
    "        pergunta3_label = tk.Label(root, text=\"De 0 a 10, qual o nível de dor?\")\n",
    "        pergunta3_label.pack()\n",
    "        self.resposta3_entry = tk.Entry(root)\n",
    "        self.resposta3_entry.pack()\n",
    "        \n",
    "        pergunta4_label = tk.Label(root, text=\"De 0 a 3, qual a classificação MEOWS?\")\n",
    "        pergunta4_label.pack()\n",
    "        self.resposta4_entry = tk.Entry(root)\n",
    "        self.resposta4_entry.pack()\n",
    "        \n",
    "        pergunta5_label = tk.Label(root, text=\"De 1 a 3, qual o nível de sinal de choque?\")\n",
    "        pergunta5_label.pack()\n",
    "        self.resposta5_entry = tk.Entry(root)\n",
    "        self.resposta5_entry.pack()\n",
    "        # Cria o botão de enviar\n",
    "        enviar_button = tk.Button(root, text=\"Enviar\", command=self.salvar_respostas)\n",
    "        enviar_button.pack()\n",
    "        \n",
    "        # Cria o botão de terminar\n",
    "        terminar_button = tk.Button(root, text=\"Terminar\", command=self.terminar)\n",
    "        terminar_button.pack()\n",
    "        \n",
    "    \n",
    "    def salvar_respostas(self):\n",
    "        # Obtém as respostas fornecidas pelo usuário\n",
    "        resposta1 = self.resposta1_entry.get()\n",
    "        resposta2 = self.resposta2_entry.get()\n",
    "        resposta3 = self.resposta3_entry.get()\n",
    "        resposta4 = self.resposta4_entry.get()\n",
    "        resposta5 = self.resposta5_entry.get()\n",
    "        \n",
    "        # Verifica se todas as respostas são numéricas, afinal, padronizamos as nossas respostas para números na etapa de AG\n",
    "        if not resposta1.isdigit() or not resposta2.isdigit() or not resposta3.isdigit():\n",
    "            messagebox.showerror(\"Erro\", \"Por favor, insira apenas valores numéricos.\")\n",
    "            return\n",
    "        \n",
    "        # Encontra o próximo número de mulher a ser adicionado ao dicionário \"mulheres\"\n",
    "        NUM_MULHERES = len(self.mulheres)\n",
    "        proximo_num_mulher = NUM_MULHERES + 1\n",
    "        ORDEM_DOS_NOMES= list(sorted(self.mulheres.keys()))\n",
    "        \n",
    "        # Cria um dicionário aninhado com as respostas\n",
    "        resposta_dict = {\n",
    "            'hemorragia': int(resposta1),\n",
    "            'idade gestacional': int(resposta2),\n",
    "            'dor': int(resposta3),\n",
    "            'meows': int(resposta4),\n",
    "            'sinais de choque': int(resposta5),\n",
    "            'leito': 1\n",
    "        }\n",
    "        \n",
    "        # Cria a chave correspondente usando o próximo número de mulher na sequência\n",
    "        chave_mulher = \"mulher{}\".format(proximo_num_mulher)\n",
    "        \n",
    "        # Armazena o dicionário de respostas na chave correspondente\n",
    "        self.mulheres[chave_mulher] = resposta_dict\n",
    "        \n",
    "        # Exibe uma mensagem de confirmação\n",
    "        messagebox.showinfo(\"Respostas\", \"Respostas salvas com sucesso!\")\n",
    "        \n",
    "        # Esvazia as lacunas da interface visual\n",
    "        self.resposta1_entry.delete(0, tk.END)\n",
    "        self.resposta2_entry.delete(0, tk.END)\n",
    "        self.resposta3_entry.delete(0, tk.END)\n",
    "        self.resposta4_entry.delete(0, tk.END)\n",
    "        self.resposta5_entry.delete(0, tk.END)\n",
    "    \n",
    "    def terminar(self):\n",
    "        NUM_MULHERES = len(self.mulheres)\n",
    "        ORDEM_DOS_NOMES = list(sorted(self.mulheres.keys()))\n",
    "        populacao = cria_populacao_inicial(TAMANHO_POP, NUM_MULHERES)\n",
    "\n",
    "        # variaveis para o hall da fama\n",
    "        melhor_fitness_ja_visto = -float(\"inf\")\n",
    "        melhor_individuo_ja_visto = [0] * NUM_MULHERES\n",
    "        for n in range(NUM_GERACOES):\n",
    "\n",
    "            # Seleção\n",
    "            fitness = funcao_objetivo_pop_maternidade(populacao, self.mulheres, LIMITE_DE_PESO, ORDEM_DOS_NOMES)\n",
    "            populacao = funcao_selecao(populacao, fitness)\n",
    "\n",
    "            # Cruzamento\n",
    "            pais = populacao[0::2]\n",
    "            maes = populacao[1::2]\n",
    "\n",
    "            contador = 0\n",
    "\n",
    "            for pai, mae in zip(pais, maes):\n",
    "                if random.random() <= CHANCE_CRUZAMENTO:\n",
    "                    filho1, filho2 = funcao_cruzamento(pai, mae)\n",
    "                    populacao[contador] = filho1\n",
    "                    populacao[contador + 1] = filho2\n",
    "\n",
    "                contador = contador + 2\n",
    "\n",
    "            # Mutação\n",
    "            for n in range(len(populacao)):\n",
    "                if random.random() <= CHANCE_MUTACAO:\n",
    "                    individuo = populacao[n]\n",
    "                    populacao[n] = funcao_mutacao(individuo)\n",
    "\n",
    "            # melhor individuo já visto até agora (hall da fama)\n",
    "            fitness =  funcao_objetivo_pop_maternidade(populacao, self.mulheres, LIMITE_DE_PESO, ORDEM_DOS_NOMES)\n",
    "            maior_fitness = max(fitness)\n",
    "            posicao = fitness.index(maior_fitness)\n",
    "            individuo = populacao[posicao].copy()\n",
    "            valor, peso = computa_maternidade(individuo, self.mulheres, ORDEM_DOS_NOMES)\n",
    "            if maior_fitness > melhor_fitness_ja_visto and peso <= LIMITE_DE_PESO: # nao queremos que ele nos de individuos que nao resolvam o problema\n",
    "                melhor_fitness_ja_visto = maior_fitness\n",
    "                melhor_individuo_ja_visto = individuo\n",
    "        lista_de_escolhidas= []\n",
    "        for pega_ou_nao, item in zip(melhor_individuo_ja_visto, ORDEM_DOS_NOMES):\n",
    "            if pega_ou_nao == 1:\n",
    "                lista_de_escolhidas.append(item)\n",
    "        messagebox.showinfo(\"Resposta do algoritmo genético\", f\"Com isso, de acordo a disponibilidade dos {peso_total} leitos e com os parâmetros avaliados, você deve priorizar as seguintes pessoas grávidas: {', '.join(map(str, lista_de_escolhidas))}\")\n",
    "        self.root.destroy()\n",
    "\n",
    "# Cria a janela principal\n",
    "root = tk.Tk()\n",
    "\n",
    "# Inicializa a interface gráfica\n",
    "perguntas_alocacao = PerguntasSistemaSaude(root)\n",
    "\n",
    "# Inicia o loop de eventos\n",
    "root.mainloop()\n"
   ]
  },
  {
   "cell_type": "markdown",
   "id": "84f02148-86ef-4f5f-99d9-722ba102945c",
   "metadata": {},
   "source": [
    "> <hr>"
   ]
  },
  {
   "cell_type": "markdown",
   "id": "e8d22c61-1de7-4306-a8d5-33c2900bdfa9",
   "metadata": {},
   "source": [
    "### <font color=&ldquo;red&rdquo;> CONCLUSÃO\n",
    "    "
   ]
  },
  {
   "cell_type": "markdown",
   "id": "f8bbe255-cb30-4191-bba6-56f3a8939356",
   "metadata": {},
   "source": [
    "<div style=' text-align: justify; text-justify: inter-word;'> \n",
    "    O código aqui apresentado, no geral, não carrega muitas diferenças em relação a quando os alunos desenvolveram o notebook 'experimento A.07 aplicando restrições'* da disciplina de Redes Neurais e Algoritmos Genéticos ministrada no terceiro semestre do bacharelado em Ciência e Tecnologia da Ilum Escola de Ciência. Contudo, no presente trabalho, o nosso objetivo foi pensar uma situação real, um problema real que, na nossa opinião, poderia ser resolvido por meio do uso de algoritmos genéticos. Após discussões, achamos que o problema dos leitos era interessante e, mais interessante ainda, era perceber que ele poderia ser resolvido com o uso dessa ferramenta inesperada: o problema da mochila. Com base nisso, adequamos um código já trabalhado com as condições necessárias para o nosso problema, trabalhando com a limitação do número de leitos e em busca das gestantes com o maior risco. \n",
    "    <br> Inicialmente, estávamos trabalhando com um dicionário com muitos elementos (cerca de 50 mulheres) e um número de gerações muito pequeno, mas isso não estava dando certo, nosso código hora dava erro, hora dava certo. Quando alteramos o número de gerações para 10mil, conseguimos correr o código normalmente, independentemente do número de pessoas gestantes. A nossa suposição que explica essa ocorrência é que o compudor precisa conseguir entender qual é o número máximo de leitos, dissemos que é 5 no início, mas ele não sabe realmente, então ele chuta. Nesse sentido, até que esse chute apresente o valor correto, ele precisa realizar várias tentativas. Porém, para realizar várias tentativas, ele precisa ter várias oportunidades para isso, o que só vai acontecer se o número de gerações for elevado.\n",
    "    <br>Além disso, a discussão de como traduziríamos os critérios de avaliação da saúde para a programação também foi muito proveitosa. Passamos por várias possibilidades, até chegar na padronização que apresentamos anteriormente. Era essencial, para nós, considerar todas as pessoas igualmente, então não podíamos abrir espaço para que nossa própria classificação já apresentasse um viés de quem seria mais ou menos selecionado. Então, buscamos equilibrar os valores por conta das multiplicações que distribuíssem os valores parcialmente uniformemente entre 0 e 100.\n",
    "    <br>No final, realmente conseguimos resolver o problema que queríamos: encontramos 5 pessoas gestantes que precisariam ser atendidas com maior urgência e que deveriam ser enviadas para os leitos. Além disso, utilizamos a ferramenta da interface interativa para que os profissionais da saúde considerassem o trabalho mais acessível.\n",
    "    <br> Por último, gostaríamos de aproveitar o espaço para fazer um agradecimento especial às alunas de Obstetrícia da Universidade de São Paulo (USP), que nos auxiliaram no desenvolvimento do trabalho com a indicação dos critérios mais importante e validando também a necessidade da nossa iniciativa.\n",
    "    \n",
    "    \n",
    "* Observação*: caso haja interesse, o notebook mencionado acima pode ser encontrado nos repositórios destinados à disciplina de Redes Neurais e Algoritmos Genéticos que podem ser encontrados nos perfis individuais de cada uma das integrantes do grupo."
   ]
  },
  {
   "cell_type": "markdown",
   "id": "7b1fa7d6-8ceb-4bc5-a876-69f4fe9e56e4",
   "metadata": {},
   "source": [
    "<hr>"
   ]
  },
  {
   "cell_type": "markdown",
   "id": "8e5002fb-9d0e-4f0c-ab17-d597138e8e81",
   "metadata": {},
   "source": [
    "### <font color=&ldquo;red&rdquo;> REFERÊNCIAS\n",
    "    "
   ]
  },
  {
   "cell_type": "markdown",
   "id": "4d6e781e-17c6-4a18-b39e-64a13d4d44ed",
   "metadata": {},
   "source": [
    "[1] CONSELHO NACIONAL DE JUSTIÇA. Tempo de espera no SUS é um dos motivos para a crescente judicialização. Disponível em: < https://www.cnj.jus.br/tempo-de-espera-no-sus-e-um-dos-motivos-para-a-crescente-judicializacao/>. \n",
    "<br>[2] KYLFOILE, K, et al. Non-Urgent and Urgent Emergency Department Use During Pregnancy: An Observational Study. Am J Obstet Gynecol. 2017 Feb; 216(2): 181-87. Disponível em: <https://www-ncbi-nlm-nih.ez106.periodicos.capes.gov.br/pmc/articles/PMC5290191/>. \n",
    "<br>[3] SUBSTANCE ABUSE AND MENTAL HEALTH SERVICES ADMINISTRATION. Communicating in a crisis. Disponível em: https://store.samhsa.gov/sites/default/files/d7/priv/pep19-01-01-005.pdf. \n",
    "<br>[4] EINSTEIN. Dretriz para uso do escore de alerta obstétrico precoce modificado em detectar a deterioração clínica na mulher no ciclo gravídico e puerperal. Disponível em: <https://www.einstein.br/Documentos%20Compartilhados/Diretriz_Escore%20de%20Alerta%20Obst%C3%A9trico%20Precoce%20Modificado_Projeto_TodasAsM%C3%A3esImportam_Einstein.pdf>. \n",
    "<br>[5] ENFCONCURSO. Hermorragia. Disponível em: <https://www.enfconcursos.com/uploads/cursos/2016/12/cursos_14822336105859170a5a977.pdf>.\n",
    "<br>[6] PYTHON. Interfaces Gráficas de Usuário com Tk. Disponível em: <https://docs.python.org/pt-br/3/library/tk.html>. "
   ]
  }
 ],
 "metadata": {
  "kernelspec": {
   "display_name": "ilumpy",
   "language": "python",
   "name": "ilumpy"
  },
  "language_info": {
   "codemirror_mode": {
    "name": "ipython",
    "version": 3
   },
   "file_extension": ".py",
   "mimetype": "text/x-python",
   "name": "python",
   "nbconvert_exporter": "python",
   "pygments_lexer": "ipython3",
   "version": "3.9.7"
  }
 },
 "nbformat": 4,
 "nbformat_minor": 5
}
