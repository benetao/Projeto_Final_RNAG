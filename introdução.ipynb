{
 "cells": [
  {
   "cell_type": "markdown",
   "id": "40527058-b574-40cc-a6f7-ec990989eb3e",
   "metadata": {},
   "source": [
    "<center><img src=\"logo1.png\" style=\"width:430px;height:100px\"/>\n",
    "\n",
    "# <center><font color=&ldquo;green&rdquo;> ALGORITMOS GENÉTICOS E ALOCAÇÃO DE LEITOS"
   ]
  },
  {
   "cell_type": "markdown",
   "id": "62685c4c-febc-4885-8710-a615ae7554d7",
   "metadata": {},
   "source": [
    "### <font color=&ldquo;red&rdquo;>INTRODUÇÃO"
   ]
  },
  {
   "cell_type": "markdown",
   "id": "4c3b4a74-898c-4dd1-a6f6-cc8fef41c1b5",
   "metadata": {},
   "source": [
    "> <div style=' text-align: justify; text-justify: inter-word;'> A disciplina de Algoritmos Genéticos e Redes Neurais é ministrada pelo Professor Doutor Daniel Cassar no terceiro período do bacharelado em Ciência e Tecnologia da Ilum - Escola de Ciência, faculdade do Centro Nacional de Pesquisa em Energia e Materiais. Nela, fomos introduzidos a conceitos e aplicações de Algoritmos Genéticos e Redes Neurais.\n",
    "    \n",
    "> <div style=' text-align: justify; text-justify: inter-word;'>  Como entrega final da disciplina, foi solicitado que os alunos elaborassem um trabalho utilizando uma das duas ou ambas as ferramentas para solucionar um problema. Não havia muitas restrições, o que precisávamos era: 1. resolver um problema; 2. que o código desse certo.\n",
    "    \n",
    "> <div style=' text-align: justify; text-justify: inter-word;'> Dito isso, o grupo, depois de algumas discussões optou por: fazer uso de algoritmos genéticos para auxiliar profissionais de saúde na tomada de decisões quanto a alocação de leitos em urgência e emergências obstétricas em situações de lotamento. "
   ]
  },
  {
   "cell_type": "markdown",
   "id": "4824825d-b836-4aef-a37c-866baebf3952",
   "metadata": {},
   "source": [
    "<br>"
   ]
  },
  {
   "cell_type": "markdown",
   "id": "f9d1a478-3267-42f0-b263-09aae463708b",
   "metadata": {},
   "source": [
    "### <font color=&ldquo;red&rdquo;> DISCUSSÃO DO PROBLEMA\n",
    "    \n",
    "<div style=' text-align: justify; text-justify: inter-word;'> \n",
    "    Inicialmente, a ideia era trabalhar com um contexto menos específico: tinhamos em mente apenas a questão dos leitos, mas sem espaço definido. Contudo, parecia que isso alongaria desnecessariamente o nosso problema, já que a variabilidade entre as condições dos pacientes seria muito grande, o que dificultaria o processo de encontrar características compartilhadas por todos. Nesse sentidos, pensamos em populações com as quais gostaríamos de trabalhar para pensar em aspectos em comum que precisariam ser avaliados. Por conta disso, escolhemos trabalhar com a população de gestantes."
   ]
  },
  {
   "cell_type": "markdown",
   "id": "3309e244-23a5-4274-a593-910e382e56c6",
   "metadata": {},
   "source": [
    "<div style=' text-align: justify; text-justify: inter-word;'> \n",
    "    Para entender se a nossa proposição de problema era mesmo uma questão real no contexto brasileiro, fomos atrás de informações. De acordo com o que encontramos, "
   ]
  },
  {
   "cell_type": "markdown",
   "id": "75a3671c-7db4-43d9-a61c-549b831d765f",
   "metadata": {},
   "source": [
    "<br>"
   ]
  },
  {
   "cell_type": "markdown",
   "id": "082d6a6b-74a7-4b24-ab96-b14fce0192e5",
   "metadata": {},
   "source": [
    "### <font color=&ldquo;red&rdquo;> O PROBLEMA DA MOCHILA\n",
    "    \n",
    "<div style=' text-align: justify; text-justify: inter-word;'> \n",
    "    I"
   ]
  },
  {
   "cell_type": "markdown",
   "id": "bf692173-a155-4423-9cfd-84480ca73853",
   "metadata": {},
   "source": [
    "<br>"
   ]
  },
  {
   "cell_type": "markdown",
   "id": "d162afcb-c3af-4a40-9f8f-1eb29eface07",
   "metadata": {},
   "source": [
    "> <hr>"
   ]
  },
  {
   "cell_type": "markdown",
   "id": "e9cc454d-2037-474d-9666-5d5f5b3aecdf",
   "metadata": {},
   "source": [
    "### <font color=&ldquo;red&rdquo;> CRITÉRIOS PARA AVALIAÇÃO"
   ]
  },
  {
   "cell_type": "markdown",
   "id": "9b2dceea-6b4a-4cc4-9cfc-3ad9fccc8447",
   "metadata": {},
   "source": [
    "**ESCALA MEOWS - MODIFIED EARLY OBSTETRIC WARNING SCORE**"
   ]
  },
  {
   "cell_type": "markdown",
   "id": "63ee1f97-4a81-41aa-8bad-b09477b1a139",
   "metadata": {},
   "source": [
    "> <div style=' text-align: justify; text-justify: inter-word;'> kcm kvd"
   ]
  },
  {
   "cell_type": "markdown",
   "id": "3f6a05ec-ca6b-4352-af28-1b0d73e2b376",
   "metadata": {},
   "source": [
    "<center><img src=\"escalamews.png\" style=\"width:440px;height:250px\"/>\n",
    "    \n",
    "    Escala Meows. Fonte: []."
   ]
  },
  {
   "cell_type": "markdown",
   "id": "31058a63-b74d-4a15-8e11-16291562ac01",
   "metadata": {},
   "source": [
    "<center><img src=\"meows 2.png\" style=\"width:440px;height:250px\"/>\n",
    "    \n",
    "    Escala Meows. Fonte: []."
   ]
  },
  {
   "cell_type": "markdown",
   "id": "6fcf6b07-b88e-4105-b5c4-5c04bc9fe5a8",
   "metadata": {},
   "source": [
    "> **HEMORRAGIA**"
   ]
  },
  {
   "cell_type": "markdown",
   "id": "e944150c-dc3f-471f-984d-78e2b06bd768",
   "metadata": {},
   "source": [
    "<center><img src=\"hemorragia.png\" style=\"width:450px;height:300px\"/>\n",
    "    \n",
    "    Classificação dos níveis de hemorragia. Fonte: []."
   ]
  },
  {
   "cell_type": "markdown",
   "id": "a826636a-d502-4b79-9ff5-ae7664228c5f",
   "metadata": {},
   "source": [
    "**SINAIS DE CHOQUE**"
   ]
  },
  {
   "cell_type": "markdown",
   "id": "0e4b0b14-d027-4f9c-855a-e1292feacd9c",
   "metadata": {},
   "source": [
    "**IDADE GESTACIONAL**\n",
    "\n",
    "> Gestação a termo inicial (early term) 37 semanas até 38 semanas e 6 dias;\n",
    "\n",
    "> Gestação a termo (full term) 39 semanas até 40 semanas e 6 dias;\n",
    "\n",
    "> Gestação a termo tardio (late term) 41 semanas até 41 semanas e 6 dias;\n",
    "\n",
    "> Gestação pós-termo (post term) 42 semanas ou mais.\n",
    "\n",
    "<div style=' text-align: justify; text-justify: inter-word;'> Apesar de todas essas classificações, consideramos como idade gestacional máxima 42 semanas. Consideramos também que, quanto mais avançada a gestação, maior é o risco para a gestante e para o bebê. Portanto, os valores são maiores conforme o avanço da gestação.   "
   ]
  },
  {
   "cell_type": "markdown",
   "id": "5602fa67-9949-486d-a804-6e59d6d4872d",
   "metadata": {},
   "source": [
    "> <div style=' text-align: justify; text-justify: inter-word;'> COMO ISSO APARECE NO CÓDIGO?\n",
    "    \n",
    "    Para manter a nossa padronização entre 0 e 100, multiplicaremos os valores de idade gestacional por 2. Ou seja, a somatória será feita com valores de 2 a 84."
   ]
  },
  {
   "cell_type": "markdown",
   "id": "96aa9f01-5dff-4209-880c-d0cf3c8cdda8",
   "metadata": {},
   "source": [
    "<br>"
   ]
  },
  {
   "cell_type": "markdown",
   "id": "8eed562f-2ae3-4c52-9003-9253dc0b2cd7",
   "metadata": {},
   "source": [
    "**NÍVEL DE DOR**\n",
    "\n",
    "> <div style=' text-align: justify; text-justify: inter-word;'> kcm kvd"
   ]
  },
  {
   "cell_type": "markdown",
   "id": "cfd4680f-f123-4c27-9979-b53283158403",
   "metadata": {},
   "source": [
    "**LEITOS**\n",
    "\n",
    "> <div style=' text-align: justify; text-justify: inter-word;'> kcm kvd"
   ]
  },
  {
   "cell_type": "markdown",
   "id": "47cf9d5a-fb36-4ddd-ad7d-7c7aa649c470",
   "metadata": {},
   "source": [
    "### <font color=&ldquo;red&rdquo;> CÓDIGO E DICUSSÃO"
   ]
  },
  {
   "cell_type": "code",
   "execution_count": null,
   "id": "878cebf7-51c4-41cc-9be8-717a9651eeba",
   "metadata": {},
   "outputs": [],
   "source": []
  },
  {
   "cell_type": "markdown",
   "id": "7b1fa7d6-8ceb-4bc5-a876-69f4fe9e56e4",
   "metadata": {},
   "source": [
    "<hr>"
   ]
  },
  {
   "cell_type": "markdown",
   "id": "8e5002fb-9d0e-4f0c-ab17-d597138e8e81",
   "metadata": {},
   "source": [
    "### <font color=&ldquo;red&rdquo;> REFERÊNCIAS\n",
    "    "
   ]
  },
  {
   "cell_type": "markdown",
   "id": "4d6e781e-17c6-4a18-b39e-64a13d4d44ed",
   "metadata": {},
   "source": [
    "[ ] EINSTEIN. Dretriz para uso do escore de alerta obstétrico precoce modificado em detectar a deterioração clínica na mulher no ciclo gravídico e puerperal. Disponível em: <https://www.einstein.br/Documentos%20Compartilhados/Diretriz_Escore%20de%20Alerta%20Obst%C3%A9trico%20Precoce%20Modificado_Projeto_TodasAsM%C3%A3esImportam_Einstein.pdf>. \n",
    "[ ] ENFCONCURSO. Hermorragia. Disponível em: <https://www.enfconcursos.com/uploads/cursos/2016/12/cursos_14822336105859170a5a977.pdf>."
   ]
  },
  {
   "cell_type": "code",
   "execution_count": null,
   "id": "b93e5537-c83f-47ff-bb07-31f8468e9f9f",
   "metadata": {},
   "outputs": [],
   "source": []
  }
 ],
 "metadata": {
  "kernelspec": {
   "display_name": "ilumpy",
   "language": "python",
   "name": "ilumpy"
  },
  "language_info": {
   "codemirror_mode": {
    "name": "ipython",
    "version": 3
   },
   "file_extension": ".py",
   "mimetype": "text/x-python",
   "name": "python",
   "nbconvert_exporter": "python",
   "pygments_lexer": "ipython3",
   "version": "3.9.7"
  }
 },
 "nbformat": 4,
 "nbformat_minor": 5
}
