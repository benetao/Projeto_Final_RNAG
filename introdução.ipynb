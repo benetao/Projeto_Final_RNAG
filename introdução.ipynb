{
 "cells": [
  {
   "cell_type": "markdown",
   "id": "40527058-b574-40cc-a6f7-ec990989eb3e",
   "metadata": {},
   "source": [
    "<center><img src=\"logo1.png\" style=\"width:430px;height:100px\"/>\n",
    "\n",
    "# <center><font color=&ldquo;green&rdquo;> ALGORITMOS GENÉTICOS E ALOCAÇÃO DE LEITOS"
   ]
  },
  {
   "cell_type": "markdown",
   "id": "62685c4c-febc-4885-8710-a615ae7554d7",
   "metadata": {},
   "source": [
    "### <font color=&ldquo;red&rdquo;>INTRODUÇÃO"
   ]
  },
  {
   "cell_type": "markdown",
   "id": "4c3b4a74-898c-4dd1-a6f6-cc8fef41c1b5",
   "metadata": {},
   "source": [
    "> <div style=' text-align: justify; text-justify: inter-word;'> A disciplina de Algoritmos Genéticos e Redes Neurais é ministrada pelo Professor Doutor Daniel Cassar no terceiro período do bacharelado em Ciência e Tecnologia da Ilum - Escola de Ciência, faculdade do Centro Nacional de Pesquisa em Energia e Materiais. Nela, fomos introduzidos a conceitos e aplicações de Algoritmos Genéticos e Redes Neurais.\n",
    "    \n",
    "> <div style=' text-align: justify; text-justify: inter-word;'>  Como entrega final da disciplina, foi solicitado que os alunos elaborassem um trabalho utilizando uma das duas ou ambas as ferramentas para solucionar um problema. Não havia muitas restrições, o que precisávamos era: 1. resolver um problema; 2. que o código desse certo.\n",
    "    \n",
    "> <div style=' text-align: justify; text-justify: inter-word;'> Dito isso, o grupo, depois de algumas discussões optou por: fazer uso de algoritmos genéticos para auxiliar profissionais de saúde na tomada de decisões quanto a alocação de leitos em urgência e emergências obstétricas em situações de lotamento. "
   ]
  },
  {
   "cell_type": "markdown",
   "id": "4824825d-b836-4aef-a37c-866baebf3952",
   "metadata": {},
   "source": [
    "<br>"
   ]
  },
  {
   "cell_type": "markdown",
   "id": "f9d1a478-3267-42f0-b263-09aae463708b",
   "metadata": {},
   "source": [
    "### <font color=&ldquo;red&rdquo;> DISCUSSÃO DO PROBLEMA\n",
    "    \n",
    "<div style=' text-align: justify; text-justify: inter-word;'> \n",
    "    Inicialmente, a ideia era trabalhar com um contexto menos específico: tinhamos em mente apenas a questão dos leitos, mas sem espaço definido. Contudo, parecia que isso alongaria desnecessariamente o nosso problema, já que a variabilidade entre as condições dos pacientes seria muito grande, o que dificultaria o processo de encontrar características compartilhadas por todos. Nesse sentidos, pensamos em populações com as quais gostaríamos de trabalhar para pensar em aspectos em comum que precisariam ser avaliados"
   ]
  },
  {
   "cell_type": "markdown",
   "id": "bf692173-a155-4423-9cfd-84480ca73853",
   "metadata": {},
   "source": [
    "<br>"
   ]
  },
  {
   "cell_type": "markdown",
   "id": "e9cc454d-2037-474d-9666-5d5f5b3aecdf",
   "metadata": {},
   "source": [
    "### <font color=&ldquo;red&rdquo;> CRITÉRIOS PARA AVALIAÇÃO"
   ]
  },
  {
   "cell_type": "markdown",
   "id": "47cf9d5a-fb36-4ddd-ad7d-7c7aa649c470",
   "metadata": {},
   "source": [
    "### <font color=&ldquo;red&rdquo;> CÓDIGO E DICUSSÃO"
   ]
  },
  {
   "cell_type": "markdown",
   "id": "7b1fa7d6-8ceb-4bc5-a876-69f4fe9e56e4",
   "metadata": {},
   "source": [
    "<hr>"
   ]
  },
  {
   "cell_type": "markdown",
   "id": "8e5002fb-9d0e-4f0c-ab17-d597138e8e81",
   "metadata": {},
   "source": [
    "### <font color=&ldquo;red&rdquo;> REFERÊNCIAS\n",
    "    "
   ]
  },
  {
   "cell_type": "code",
   "execution_count": null,
   "id": "9622ab32-fbbe-4ac2-93b0-f343bc498043",
   "metadata": {},
   "outputs": [],
   "source": []
  }
 ],
 "metadata": {
  "kernelspec": {
   "display_name": "ilumpy",
   "language": "python",
   "name": "ilumpy"
  },
  "language_info": {
   "codemirror_mode": {
    "name": "ipython",
    "version": 3
   },
   "file_extension": ".py",
   "mimetype": "text/x-python",
   "name": "python",
   "nbconvert_exporter": "python",
   "pygments_lexer": "ipython3",
   "version": "3.9.7"
  }
 },
 "nbformat": 4,
 "nbformat_minor": 5
}
